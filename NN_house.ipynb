{
 "cells": [
  {
   "cell_type": "code",
   "execution_count": 55,
   "id": "97ce7c3e-7fac-4da3-bef9-cf75fb3a3080",
   "metadata": {},
   "outputs": [],
   "source": [
    "import pandas as pd"
   ]
  },
  {
   "cell_type": "code",
   "execution_count": 56,
   "id": "960f7ffb-425f-4a18-a1c5-e761529bc40f",
   "metadata": {},
   "outputs": [],
   "source": [
    "data = pd.read_csv('cleaned_data.csv')\n",
    "df = pd.DataFrame(data)"
   ]
  },
  {
   "cell_type": "code",
   "execution_count": 57,
   "id": "04222963-0e66-4b71-aa13-9a90f8ba9c7b",
   "metadata": {},
   "outputs": [
    {
     "data": {
      "text/html": [
       "<div>\n",
       "<style scoped>\n",
       "    .dataframe tbody tr th:only-of-type {\n",
       "        vertical-align: middle;\n",
       "    }\n",
       "\n",
       "    .dataframe tbody tr th {\n",
       "        vertical-align: top;\n",
       "    }\n",
       "\n",
       "    .dataframe thead th {\n",
       "        text-align: right;\n",
       "    }\n",
       "</style>\n",
       "<table border=\"1\" class=\"dataframe\">\n",
       "  <thead>\n",
       "    <tr style=\"text-align: right;\">\n",
       "      <th></th>\n",
       "      <th>price</th>\n",
       "      <th>bedrooms</th>\n",
       "      <th>bathrooms</th>\n",
       "      <th>sqft_living</th>\n",
       "      <th>sqft_lot</th>\n",
       "      <th>sqft_above</th>\n",
       "      <th>sqft_basement</th>\n",
       "      <th>age_of_house</th>\n",
       "      <th>years_from_renovation</th>\n",
       "      <th>yr_built_1900</th>\n",
       "      <th>...</th>\n",
       "      <th>view_0</th>\n",
       "      <th>view_1</th>\n",
       "      <th>view_2</th>\n",
       "      <th>view_3</th>\n",
       "      <th>view_4</th>\n",
       "      <th>condition_1</th>\n",
       "      <th>condition_2</th>\n",
       "      <th>condition_3</th>\n",
       "      <th>condition_4</th>\n",
       "      <th>condition_5</th>\n",
       "    </tr>\n",
       "  </thead>\n",
       "  <tbody>\n",
       "    <tr>\n",
       "      <th>0</th>\n",
       "      <td>3.130000e+05</td>\n",
       "      <td>-0.441122</td>\n",
       "      <td>-0.843204</td>\n",
       "      <td>-0.829971</td>\n",
       "      <td>-0.193434</td>\n",
       "      <td>-0.565224</td>\n",
       "      <td>-0.672464</td>\n",
       "      <td>0.531014</td>\n",
       "      <td>-1.221670</td>\n",
       "      <td>False</td>\n",
       "      <td>...</td>\n",
       "      <td>True</td>\n",
       "      <td>False</td>\n",
       "      <td>False</td>\n",
       "      <td>False</td>\n",
       "      <td>False</td>\n",
       "      <td>False</td>\n",
       "      <td>False</td>\n",
       "      <td>True</td>\n",
       "      <td>False</td>\n",
       "      <td>False</td>\n",
       "    </tr>\n",
       "    <tr>\n",
       "      <th>1</th>\n",
       "      <td>2.384000e+06</td>\n",
       "      <td>1.759705</td>\n",
       "      <td>0.432802</td>\n",
       "      <td>1.568528</td>\n",
       "      <td>-0.161718</td>\n",
       "      <td>1.789559</td>\n",
       "      <td>-0.069128</td>\n",
       "      <td>1.674693</td>\n",
       "      <td>0.825693</td>\n",
       "      <td>False</td>\n",
       "      <td>...</td>\n",
       "      <td>False</td>\n",
       "      <td>False</td>\n",
       "      <td>False</td>\n",
       "      <td>False</td>\n",
       "      <td>True</td>\n",
       "      <td>False</td>\n",
       "      <td>False</td>\n",
       "      <td>False</td>\n",
       "      <td>False</td>\n",
       "      <td>True</td>\n",
       "    </tr>\n",
       "    <tr>\n",
       "      <th>2</th>\n",
       "      <td>3.420000e+05</td>\n",
       "      <td>-0.441122</td>\n",
       "      <td>-0.205201</td>\n",
       "      <td>-0.217367</td>\n",
       "      <td>-0.080978</td>\n",
       "      <td>0.119171</td>\n",
       "      <td>-0.672464</td>\n",
       "      <td>0.161000</td>\n",
       "      <td>0.825693</td>\n",
       "      <td>False</td>\n",
       "      <td>...</td>\n",
       "      <td>True</td>\n",
       "      <td>False</td>\n",
       "      <td>False</td>\n",
       "      <td>False</td>\n",
       "      <td>False</td>\n",
       "      <td>False</td>\n",
       "      <td>False</td>\n",
       "      <td>False</td>\n",
       "      <td>True</td>\n",
       "      <td>False</td>\n",
       "    </tr>\n",
       "    <tr>\n",
       "      <th>3</th>\n",
       "      <td>4.200000e+05</td>\n",
       "      <td>-0.441122</td>\n",
       "      <td>0.113800</td>\n",
       "      <td>-0.144686</td>\n",
       "      <td>-0.190145</td>\n",
       "      <td>-0.959621</td>\n",
       "      <td>1.482306</td>\n",
       "      <td>0.261913</td>\n",
       "      <td>0.825693</td>\n",
       "      <td>False</td>\n",
       "      <td>...</td>\n",
       "      <td>True</td>\n",
       "      <td>False</td>\n",
       "      <td>False</td>\n",
       "      <td>False</td>\n",
       "      <td>False</td>\n",
       "      <td>False</td>\n",
       "      <td>False</td>\n",
       "      <td>False</td>\n",
       "      <td>True</td>\n",
       "      <td>False</td>\n",
       "    </tr>\n",
       "    <tr>\n",
       "      <th>4</th>\n",
       "      <td>5.500000e+05</td>\n",
       "      <td>0.659291</td>\n",
       "      <td>0.432802</td>\n",
       "      <td>-0.206984</td>\n",
       "      <td>-0.121306</td>\n",
       "      <td>-0.797222</td>\n",
       "      <td>1.051352</td>\n",
       "      <td>-0.175376</td>\n",
       "      <td>-1.208396</td>\n",
       "      <td>False</td>\n",
       "      <td>...</td>\n",
       "      <td>True</td>\n",
       "      <td>False</td>\n",
       "      <td>False</td>\n",
       "      <td>False</td>\n",
       "      <td>False</td>\n",
       "      <td>False</td>\n",
       "      <td>False</td>\n",
       "      <td>False</td>\n",
       "      <td>True</td>\n",
       "      <td>False</td>\n",
       "    </tr>\n",
       "    <tr>\n",
       "      <th>...</th>\n",
       "      <td>...</td>\n",
       "      <td>...</td>\n",
       "      <td>...</td>\n",
       "      <td>...</td>\n",
       "      <td>...</td>\n",
       "      <td>...</td>\n",
       "      <td>...</td>\n",
       "      <td>...</td>\n",
       "      <td>...</td>\n",
       "      <td>...</td>\n",
       "      <td>...</td>\n",
       "      <td>...</td>\n",
       "      <td>...</td>\n",
       "      <td>...</td>\n",
       "      <td>...</td>\n",
       "      <td>...</td>\n",
       "      <td>...</td>\n",
       "      <td>...</td>\n",
       "      <td>...</td>\n",
       "      <td>...</td>\n",
       "      <td>...</td>\n",
       "    </tr>\n",
       "    <tr>\n",
       "      <th>4595</th>\n",
       "      <td>3.081667e+05</td>\n",
       "      <td>-0.441122</td>\n",
       "      <td>-0.524202</td>\n",
       "      <td>-0.653458</td>\n",
       "      <td>-0.236689</td>\n",
       "      <td>-0.368025</td>\n",
       "      <td>-0.672464</td>\n",
       "      <td>0.564651</td>\n",
       "      <td>-1.195121</td>\n",
       "      <td>False</td>\n",
       "      <td>...</td>\n",
       "      <td>True</td>\n",
       "      <td>False</td>\n",
       "      <td>False</td>\n",
       "      <td>False</td>\n",
       "      <td>False</td>\n",
       "      <td>False</td>\n",
       "      <td>False</td>\n",
       "      <td>False</td>\n",
       "      <td>True</td>\n",
       "      <td>False</td>\n",
       "    </tr>\n",
       "    <tr>\n",
       "      <th>4596</th>\n",
       "      <td>5.343333e+05</td>\n",
       "      <td>-0.441122</td>\n",
       "      <td>0.432802</td>\n",
       "      <td>-0.705374</td>\n",
       "      <td>-0.202882</td>\n",
       "      <td>-0.426025</td>\n",
       "      <td>-0.672464</td>\n",
       "      <td>-0.410840</td>\n",
       "      <td>-1.225755</td>\n",
       "      <td>False</td>\n",
       "      <td>...</td>\n",
       "      <td>True</td>\n",
       "      <td>False</td>\n",
       "      <td>False</td>\n",
       "      <td>False</td>\n",
       "      <td>False</td>\n",
       "      <td>False</td>\n",
       "      <td>False</td>\n",
       "      <td>True</td>\n",
       "      <td>False</td>\n",
       "      <td>False</td>\n",
       "    </tr>\n",
       "    <tr>\n",
       "      <th>4597</th>\n",
       "      <td>4.169042e+05</td>\n",
       "      <td>-0.441122</td>\n",
       "      <td>0.432802</td>\n",
       "      <td>0.904009</td>\n",
       "      <td>-0.218462</td>\n",
       "      <td>1.371962</td>\n",
       "      <td>-0.672464</td>\n",
       "      <td>-1.285418</td>\n",
       "      <td>0.825693</td>\n",
       "      <td>False</td>\n",
       "      <td>...</td>\n",
       "      <td>True</td>\n",
       "      <td>False</td>\n",
       "      <td>False</td>\n",
       "      <td>False</td>\n",
       "      <td>False</td>\n",
       "      <td>False</td>\n",
       "      <td>False</td>\n",
       "      <td>True</td>\n",
       "      <td>False</td>\n",
       "      <td>False</td>\n",
       "    </tr>\n",
       "    <tr>\n",
       "      <th>4598</th>\n",
       "      <td>2.034000e+05</td>\n",
       "      <td>0.659291</td>\n",
       "      <td>-0.205201</td>\n",
       "      <td>-0.051238</td>\n",
       "      <td>-0.229164</td>\n",
       "      <td>-0.878421</td>\n",
       "      <td>1.525401</td>\n",
       "      <td>-0.108101</td>\n",
       "      <td>0.825693</td>\n",
       "      <td>False</td>\n",
       "      <td>...</td>\n",
       "      <td>True</td>\n",
       "      <td>False</td>\n",
       "      <td>False</td>\n",
       "      <td>False</td>\n",
       "      <td>False</td>\n",
       "      <td>False</td>\n",
       "      <td>False</td>\n",
       "      <td>True</td>\n",
       "      <td>False</td>\n",
       "      <td>False</td>\n",
       "    </tr>\n",
       "    <tr>\n",
       "      <th>4599</th>\n",
       "      <td>2.206000e+05</td>\n",
       "      <td>-0.441122</td>\n",
       "      <td>0.432802</td>\n",
       "      <td>-0.674224</td>\n",
       "      <td>-0.188139</td>\n",
       "      <td>-0.391225</td>\n",
       "      <td>-0.672464</td>\n",
       "      <td>-0.646303</td>\n",
       "      <td>0.825693</td>\n",
       "      <td>False</td>\n",
       "      <td>...</td>\n",
       "      <td>True</td>\n",
       "      <td>False</td>\n",
       "      <td>False</td>\n",
       "      <td>False</td>\n",
       "      <td>False</td>\n",
       "      <td>False</td>\n",
       "      <td>False</td>\n",
       "      <td>False</td>\n",
       "      <td>True</td>\n",
       "      <td>False</td>\n",
       "    </tr>\n",
       "  </tbody>\n",
       "</table>\n",
       "<p>4600 rows × 246 columns</p>\n",
       "</div>"
      ],
      "text/plain": [
       "             price  bedrooms  bathrooms  sqft_living  sqft_lot  sqft_above  \\\n",
       "0     3.130000e+05 -0.441122  -0.843204    -0.829971 -0.193434   -0.565224   \n",
       "1     2.384000e+06  1.759705   0.432802     1.568528 -0.161718    1.789559   \n",
       "2     3.420000e+05 -0.441122  -0.205201    -0.217367 -0.080978    0.119171   \n",
       "3     4.200000e+05 -0.441122   0.113800    -0.144686 -0.190145   -0.959621   \n",
       "4     5.500000e+05  0.659291   0.432802    -0.206984 -0.121306   -0.797222   \n",
       "...            ...       ...        ...          ...       ...         ...   \n",
       "4595  3.081667e+05 -0.441122  -0.524202    -0.653458 -0.236689   -0.368025   \n",
       "4596  5.343333e+05 -0.441122   0.432802    -0.705374 -0.202882   -0.426025   \n",
       "4597  4.169042e+05 -0.441122   0.432802     0.904009 -0.218462    1.371962   \n",
       "4598  2.034000e+05  0.659291  -0.205201    -0.051238 -0.229164   -0.878421   \n",
       "4599  2.206000e+05 -0.441122   0.432802    -0.674224 -0.188139   -0.391225   \n",
       "\n",
       "      sqft_basement  age_of_house  years_from_renovation  yr_built_1900  ...  \\\n",
       "0         -0.672464      0.531014              -1.221670          False  ...   \n",
       "1         -0.069128      1.674693               0.825693          False  ...   \n",
       "2         -0.672464      0.161000               0.825693          False  ...   \n",
       "3          1.482306      0.261913               0.825693          False  ...   \n",
       "4          1.051352     -0.175376              -1.208396          False  ...   \n",
       "...             ...           ...                    ...            ...  ...   \n",
       "4595      -0.672464      0.564651              -1.195121          False  ...   \n",
       "4596      -0.672464     -0.410840              -1.225755          False  ...   \n",
       "4597      -0.672464     -1.285418               0.825693          False  ...   \n",
       "4598       1.525401     -0.108101               0.825693          False  ...   \n",
       "4599      -0.672464     -0.646303               0.825693          False  ...   \n",
       "\n",
       "      view_0  view_1  view_2  view_3  view_4  condition_1  condition_2  \\\n",
       "0       True   False   False   False   False        False        False   \n",
       "1      False   False   False   False    True        False        False   \n",
       "2       True   False   False   False   False        False        False   \n",
       "3       True   False   False   False   False        False        False   \n",
       "4       True   False   False   False   False        False        False   \n",
       "...      ...     ...     ...     ...     ...          ...          ...   \n",
       "4595    True   False   False   False   False        False        False   \n",
       "4596    True   False   False   False   False        False        False   \n",
       "4597    True   False   False   False   False        False        False   \n",
       "4598    True   False   False   False   False        False        False   \n",
       "4599    True   False   False   False   False        False        False   \n",
       "\n",
       "      condition_3  condition_4  condition_5  \n",
       "0            True        False        False  \n",
       "1           False        False         True  \n",
       "2           False         True        False  \n",
       "3           False         True        False  \n",
       "4           False         True        False  \n",
       "...           ...          ...          ...  \n",
       "4595        False         True        False  \n",
       "4596         True        False        False  \n",
       "4597         True        False        False  \n",
       "4598         True        False        False  \n",
       "4599        False         True        False  \n",
       "\n",
       "[4600 rows x 246 columns]"
      ]
     },
     "execution_count": 57,
     "metadata": {},
     "output_type": "execute_result"
    }
   ],
   "source": [
    "df"
   ]
  },
  {
   "cell_type": "code",
   "execution_count": 58,
   "id": "00847c52-6884-4018-8c8e-5eba981b56ae",
   "metadata": {},
   "outputs": [
    {
     "name": "stdout",
     "output_type": "stream",
     "text": [
      "shape (4600, 246)\n"
     ]
    }
   ],
   "source": [
    "print('shape' ,data.shape)"
   ]
  },
  {
   "cell_type": "code",
   "execution_count": 59,
   "id": "6645b55f-24cf-49ce-9a9d-a0ff1237f19a",
   "metadata": {},
   "outputs": [
    {
     "name": "stdout",
     "output_type": "stream",
     "text": [
      "data columns Index(['price', 'bedrooms', 'bathrooms', 'sqft_living', 'sqft_lot',\n",
      "       'sqft_above', 'sqft_basement', 'age_of_house', 'years_from_renovation',\n",
      "       'yr_built_1900',\n",
      "       ...\n",
      "       'view_0', 'view_1', 'view_2', 'view_3', 'view_4', 'condition_1',\n",
      "       'condition_2', 'condition_3', 'condition_4', 'condition_5'],\n",
      "      dtype='object', length=246)\n"
     ]
    }
   ],
   "source": [
    "print('data columns',data.columns)"
   ]
  },
  {
   "cell_type": "code",
   "execution_count": 60,
   "id": "ebf9f799-7b89-417f-aaf3-201b35d48121",
   "metadata": {},
   "outputs": [],
   "source": [
    "#x_column = ['bedrooms','bathrooms' ,'sqft_living' ,'sqft_above' ,'sqft_basement','age_of_house' ]\n",
    "y= df['price']\n",
    "x = df.drop('price',axis=1)"
   ]
  },
  {
   "cell_type": "code",
   "execution_count": 61,
   "id": "10368b2b-92c7-4523-bc98-0ebd2c58a6f4",
   "metadata": {},
   "outputs": [
    {
     "name": "stdout",
     "output_type": "stream",
     "text": [
      "(4600, 245)\n"
     ]
    }
   ],
   "source": [
    "print(x.shape)"
   ]
  },
  {
   "cell_type": "code",
   "execution_count": 62,
   "id": "98ecd962-d8eb-45dc-a24d-0ca609ec60b7",
   "metadata": {},
   "outputs": [],
   "source": [
    "from sklearn.model_selection import train_test_split\n",
    "\n",
    "x_train,x_test,y_train,y_test = train_test_split(x,y,test_size=0.3,random_state= 42)"
   ]
  },
  {
   "cell_type": "code",
   "execution_count": 63,
   "id": "cd1d2ed1-5243-473c-b131-94af9ce7eda1",
   "metadata": {},
   "outputs": [],
   "source": [
    "#creating neural network\n",
    "import tensorflow as tf\n",
    "\n",
    "model = tf.keras.models.Sequential()"
   ]
  },
  {
   "cell_type": "code",
   "execution_count": 64,
   "id": "c6c71a97-6b4e-4d83-a720-c0977298b85e",
   "metadata": {},
   "outputs": [
    {
     "name": "stdout",
     "output_type": "stream",
     "text": [
      "Epoch 1/10\n"
     ]
    },
    {
     "name": "stderr",
     "output_type": "stream",
     "text": [
      "/home/atul/code/compX/lib/python3.12/site-packages/keras/src/layers/core/dense.py:87: UserWarning: Do not pass an `input_shape`/`input_dim` argument to a layer. When using Sequential models, prefer using an `Input(shape)` object as the first layer in the model instead.\n",
      "  super().__init__(activity_regularizer=activity_regularizer, **kwargs)\n"
     ]
    },
    {
     "name": "stdout",
     "output_type": "stream",
     "text": [
      "\u001b[1m101/101\u001b[0m \u001b[32m━━━━━━━━━━━━━━━━━━━━\u001b[0m\u001b[37m\u001b[0m \u001b[1m1s\u001b[0m 3ms/step - loss: -7520870.5000 - mean_squared_error: 421474893824.0000\n",
      "Epoch 2/10\n",
      "\u001b[1m101/101\u001b[0m \u001b[32m━━━━━━━━━━━━━━━━━━━━\u001b[0m\u001b[37m\u001b[0m \u001b[1m0s\u001b[0m 3ms/step - loss: -8711470.0000 - mean_squared_error: 440156585984.0000\n",
      "Epoch 3/10\n",
      "\u001b[1m101/101\u001b[0m \u001b[32m━━━━━━━━━━━━━━━━━━━━\u001b[0m\u001b[37m\u001b[0m \u001b[1m0s\u001b[0m 3ms/step - loss: -8712168.0000 - mean_squared_error: 442422493184.0000\n",
      "Epoch 4/10\n",
      "\u001b[1m101/101\u001b[0m \u001b[32m━━━━━━━━━━━━━━━━━━━━\u001b[0m\u001b[37m\u001b[0m \u001b[1m0s\u001b[0m 3ms/step - loss: -8593624.0000 - mean_squared_error: 421058707456.0000\n",
      "Epoch 5/10\n",
      "\u001b[1m101/101\u001b[0m \u001b[32m━━━━━━━━━━━━━━━━━━━━\u001b[0m\u001b[37m\u001b[0m \u001b[1m0s\u001b[0m 3ms/step - loss: -8566849.0000 - mean_squared_error: 435688800256.0000\n",
      "Epoch 6/10\n",
      "\u001b[1m101/101\u001b[0m \u001b[32m━━━━━━━━━━━━━━━━━━━━\u001b[0m\u001b[37m\u001b[0m \u001b[1m0s\u001b[0m 3ms/step - loss: -8815405.0000 - mean_squared_error: 457091088384.0000\n",
      "Epoch 7/10\n",
      "\u001b[1m101/101\u001b[0m \u001b[32m━━━━━━━━━━━━━━━━━━━━\u001b[0m\u001b[37m\u001b[0m \u001b[1m0s\u001b[0m 3ms/step - loss: -8662052.0000 - mean_squared_error: 426735042560.0000\n",
      "Epoch 8/10\n",
      "\u001b[1m101/101\u001b[0m \u001b[32m━━━━━━━━━━━━━━━━━━━━\u001b[0m\u001b[37m\u001b[0m \u001b[1m0s\u001b[0m 3ms/step - loss: -8673721.0000 - mean_squared_error: 430852079616.0000\n",
      "Epoch 9/10\n",
      "\u001b[1m101/101\u001b[0m \u001b[32m━━━━━━━━━━━━━━━━━━━━\u001b[0m\u001b[37m\u001b[0m \u001b[1m0s\u001b[0m 3ms/step - loss: -8590893.0000 - mean_squared_error: 426509238272.0000\n",
      "Epoch 10/10\n",
      "\u001b[1m101/101\u001b[0m \u001b[32m━━━━━━━━━━━━━━━━━━━━\u001b[0m\u001b[37m\u001b[0m \u001b[1m0s\u001b[0m 3ms/step - loss: -8659269.0000 - mean_squared_error: 432076783616.0000\n"
     ]
    },
    {
     "data": {
      "text/plain": [
       "<keras.src.callbacks.history.History at 0x79ccea401ac0>"
      ]
     },
     "execution_count": 64,
     "metadata": {},
     "output_type": "execute_result"
    }
   ],
   "source": [
    "# defining model architecture\n",
    "\n",
    "model.add(tf.keras.layers.Dense(521,input_dim = x_train.shape[1],activation='relu'))\n",
    "\n",
    "model.add(tf.keras.layers.Dense(256,activation='relu'))\n",
    "model.add(tf.keras.layers.Dense(128,activation='relu'))\n",
    "model.add(tf.keras.layers.Dense(64,activation='relu'))\n",
    "model.add(tf.keras.layers.Dense(1,activation='linear'))\n",
    "\n",
    "model.compile(optimizer='adam',loss='binary_crossentropy',metrics=['mean_squared_error'])\n",
    "model.fit(x_train,y_train,epochs=10)"
   ]
  },
  {
   "cell_type": "code",
   "execution_count": 65,
   "id": "d80e8506-a221-4d66-b2ef-2a1ae98b93b9",
   "metadata": {},
   "outputs": [
    {
     "name": "stdout",
     "output_type": "stream",
     "text": [
      "\u001b[1m44/44\u001b[0m \u001b[32m━━━━━━━━━━━━━━━━━━━━\u001b[0m\u001b[37m\u001b[0m \u001b[1m0s\u001b[0m 2ms/step\n"
     ]
    }
   ],
   "source": [
    "pred = model.predict(x_test)"
   ]
  },
  {
   "cell_type": "code",
   "execution_count": 66,
   "id": "85e40d67-0e22-46cb-a85a-062b9123603a",
   "metadata": {},
   "outputs": [],
   "source": [
    "from sklearn.metrics import mean_absolute_error,r2_score"
   ]
  },
  {
   "cell_type": "code",
   "execution_count": 67,
   "id": "4d30a7c2-c0f8-4ad1-9a34-b240953cb27c",
   "metadata": {},
   "outputs": [],
   "source": [
    "mae = mean_absolute_error(y_test,pred)\n",
    "r2 = r2_score(y_test,pred)"
   ]
  },
  {
   "cell_type": "code",
   "execution_count": 68,
   "id": "095361b8-7997-4440-aced-230c1b1d5663",
   "metadata": {},
   "outputs": [
    {
     "name": "stdout",
     "output_type": "stream",
     "text": [
      "MAE :  566236.572167\n",
      "R2 :  -0.44379838292756557\n"
     ]
    }
   ],
   "source": [
    "print('MAE : ',mae)\n",
    "print('R2 : ',r2)"
   ]
  },
  {
   "cell_type": "code",
   "execution_count": 69,
   "id": "98c46671-e56e-4876-bfa1-033295d9a073",
   "metadata": {},
   "outputs": [
    {
     "name": "stderr",
     "output_type": "stream",
     "text": [
      "WARNING:absl:You are saving your model as an HDF5 file via `model.save()` or `keras.saving.save_model(model)`. This file format is considered legacy. We recommend using instead the native Keras format, e.g. `model.save('my_model.keras')` or `keras.saving.save_model(model, 'my_model.keras')`. \n"
     ]
    }
   ],
   "source": [
    "model.save('house_NN.h5')"
   ]
  },
  {
   "cell_type": "code",
   "execution_count": null,
   "id": "00df263d-5c4c-4eba-9920-8da9e7b75d1b",
   "metadata": {},
   "outputs": [],
   "source": []
  }
 ],
 "metadata": {
  "kernelspec": {
   "display_name": "Python 3 (ipykernel)",
   "language": "python",
   "name": "python3"
  },
  "language_info": {
   "codemirror_mode": {
    "name": "ipython",
    "version": 3
   },
   "file_extension": ".py",
   "mimetype": "text/x-python",
   "name": "python",
   "nbconvert_exporter": "python",
   "pygments_lexer": "ipython3",
   "version": "3.12.4"
  }
 },
 "nbformat": 4,
 "nbformat_minor": 5
}
